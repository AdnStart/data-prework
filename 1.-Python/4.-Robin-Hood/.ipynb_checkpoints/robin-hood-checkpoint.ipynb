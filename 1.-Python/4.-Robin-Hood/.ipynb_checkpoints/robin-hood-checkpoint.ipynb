{
 "cells": [
  {
   "cell_type": "markdown",
   "metadata": {},
   "source": [
    "<img src=\"https://bit.ly/2VnXWr2\" width=\"100\" align=\"left\"/>"
   ]
  },
  {
   "cell_type": "markdown",
   "metadata": {},
   "source": [
    "# Robin Hood\n",
    "Robin Hood has entered a competition to win the archery contest in Sherwood. With his bow and arrows, he needs to shoot on a target and try to hit as close as possible to the center.\n",
    "\n",
    "![](images/arrows.jpg)\n",
    "\n",
    "## Context\n",
    "In this challenge, the landing position of arrows shot by archers in the competition will be represented using 2-dimensional coordinates. \n",
    "\n",
    "In the 2-dimensional space, a point can be defined by a pair of values that correspond to the horizontal coordinate (x) and the vertical coordinate (y). For example, in our case, an arrow that hits the center of the archery target will land in position (0, 0) on the coordinate axes. \n",
    "\n",
    "The space can be divided into 4 zones (quadrants): Q1, Q2, Q3, Q4. If a point is in Q1, both its x coordinate and y coordinate are positive. Any point with a null x or y coordinate is considered to not belong to any quadrant. \n",
    "\n",
    "If you want to know more about the cartesian coordinate system, you can check this [link](https://en.wikipedia.org/wiki/Cartesian_coordinate_system). \n",
    "\n",
    "## Tools\n",
    "You don't necessarily need to use all the tools. Maybe you opt to use some of them or completely different ones, they are given to help you shape the exercise. Programming exercises can be solved in many different ways.\n",
    "* Data structures: **lists, sets, tuples**\n",
    "* Conditional statements: **if-elif-else**\n",
    "* Loop: **while/for**\n",
    "* Minimum (optional sorting)\n",
    "\n",
    "## Tasks\n",
    "Robin Hood has hit the following points:"
   ]
  },
  {
   "cell_type": "code",
   "execution_count": 17,
   "metadata": {},
   "outputs": [
    {
     "data": {
      "text/plain": [
       "22"
      ]
     },
     "execution_count": 17,
     "metadata": {},
     "output_type": "execute_result"
    }
   ],
   "source": [
    "points = [(4, 5), (-0, 2), (4, 7), (1, -3), (3, -2), (4, 5), (3, 2), (5, 7), (-5, 7), (2, 2), (-4, 5), (0, -2),\n",
    "          (-4, 7), (-1, 3), (-3, 2), (-4, -5), (-3, 2), (5, 7), (5, 7), (2, 2), (9, 9), (-8, -9)]\n",
    "\n",
    "len(points)\n"
   ]
  },
  {
   "cell_type": "markdown",
   "metadata": {},
   "source": [
    "#### 1. Robin Hood is famous for hitting an arrow with another arrow. Find the coordinates of the points where an arrow hits another arrow."
   ]
  },
  {
   "cell_type": "code",
   "execution_count": 30,
   "metadata": {},
   "outputs": [
    {
     "name": "stdout",
     "output_type": "stream",
     "text": [
      "(4, 5)\n",
      "(5, 7)\n",
      "(5, 7)\n",
      "(2, 2)\n",
      "(-3, 2)\n",
      "(5, 7)\n",
      "Unique coordinates of arrow in arrow: {(-3, 2), (4, 5), (5, 7), (2, 2)}\n"
     ]
    }
   ],
   "source": [
    "index1 = 0\n",
    "index2 = 1\n",
    "\n",
    "arrow_on_arrow = set()\n",
    "\n",
    "while index1 <= len(points)-2:\n",
    "    for x in range(index2, len(points)):\n",
    "        #print(points[index1], \"compared to\", points[index2])\n",
    "        if points[index1] == points[index2]:\n",
    "            print(points[index1])\n",
    "            arrow_on_arrow.add(points[index1])\n",
    "        index2 += 1\n",
    "    index1 += 1\n",
    "    index2 = index1 + 1\n",
    "    \n",
    "print(\"Unique coordinates of arrow in arrow:\", arrow_on_arrow)"
   ]
  },
  {
   "cell_type": "markdown",
   "metadata": {},
   "source": [
    "#### 2. Calculate how many arrows have fallen in each quadrant. \n",
    "**Note**: the arrows that fall in the axis (x=0 or y=0) don't belong to any quadrant."
   ]
  },
  {
   "cell_type": "code",
   "execution_count": 38,
   "metadata": {},
   "outputs": [
    {
     "name": "stdout",
     "output_type": "stream",
     "text": [
      "Arrows in Q1: 11 \n",
      "Arrows in Q2: 3 \n",
      "Arrows in Q3: 6 \n",
      "Arrows in Q4: 2\n"
     ]
    }
   ],
   "source": [
    "#Q1: x positive, y positive\n",
    "#Q2: x positive, y negative\n",
    "#Q1: x negative, y positive\n",
    "#Q1: x negative, y negative\n",
    "#QX: x=0,y=0 \n",
    "\n",
    "qx_arrows = 0\n",
    "q1_arrows = 0\n",
    "q2_arrows = 0\n",
    "q3_arrows = 0\n",
    "q4_arrows = 0\n",
    "\n",
    "for x in range(len(points)):\n",
    "    if points[x][0] == 0 and points[x][1] == 0:\n",
    "        qx_arrows += 1\n",
    "    elif points[x][0] >= 0 and points[x][1] >= 0:\n",
    "        q1_arrows += 1\n",
    "    elif points[x][0] >= 0 and points[x][1] <= 0:\n",
    "        q2_arrows += 1\n",
    "    elif points[x][0] <= 0 and points[x][1] >= 0:\n",
    "        q3_arrows += 1\n",
    "    elif points[x][0] <= 0 and points[x][1] <= 0:\n",
    "        q4_arrows += 1\n",
    "        \n",
    "print(\"Arrows in Q1:\", q1_arrows,\n",
    "      \"\\nArrows in Q2:\", q2_arrows,\n",
    "      \"\\nArrows in Q3:\", q3_arrows,\n",
    "      \"\\nArrows in Q4:\", q4_arrows,\n",
    "     )\n"
   ]
  },
  {
   "cell_type": "markdown",
   "metadata": {},
   "source": [
    "#### 3. Find the point closest to the center. Calculate its distance to the center. \n",
    "Take into account that there might be more than one point at the minimum distance to the center.\n",
    "\n",
    "**Hint**: Use the Euclidean distance. You can find more information about it [here](https://en.wikipedia.org/wiki/Euclidean_distance).  \n",
    "**Hint**: Defining a function that calculates the distance to the center can help."
   ]
  },
  {
   "cell_type": "code",
   "execution_count": 64,
   "metadata": {},
   "outputs": [
    {
     "name": "stdout",
     "output_type": "stream",
     "text": [
      "[6.4031242374328485, 2.0, 8.06225774829855, 3.1622776601683795, 3.605551275463989, 6.4031242374328485, 3.605551275463989, 8.602325267042627, 8.602325267042627, 2.8284271247461903, 6.4031242374328485, 2.0, 8.06225774829855, 3.1622776601683795, 3.605551275463989, 6.4031242374328485, 3.605551275463989, 8.602325267042627, 8.602325267042627, 2.8284271247461903, 12.727922061357855, 12.041594578792296]\n",
      "2.0\n",
      "There are 2 arrows that are closest to the center and their positions are: [(0, 2), (0, -2)]\n"
     ]
    }
   ],
   "source": [
    "import math\n",
    "\n",
    "def distance(a,b):\n",
    "    return math.sqrt(a**2 + b**2)\n",
    "\n",
    "distances_list = []\n",
    "\n",
    "for x in range(len(points)):\n",
    "    distances_list.append(distance(points[x][0],points[x][1]))    \n",
    "    \n",
    "print(distances_list)\n",
    "    \n",
    "shortest_distance = min(distances_list)\n",
    "\n",
    "print(shortest_distance)\n",
    "\n",
    "closest_arrows = []\n",
    "\n",
    "for x in range(len(points)):\n",
    "    if distance(points[x][0],points[x][1]) == shortest_distance:\n",
    "        closest_arrows.append(points[x])\n",
    "        \n",
    "print(\"There are\", len(closest_arrows), \"arrows that are closest to the center and their positions are:\", closest_arrows)\n"
   ]
  },
  {
   "cell_type": "markdown",
   "metadata": {},
   "source": [
    "#### 4. If the archery target has a radius of 9, calculate the number of arrows that won't hit the target. \n",
    "**Hint**: Use the function created in step 3. "
   ]
  },
  {
   "cell_type": "code",
   "execution_count": 65,
   "metadata": {},
   "outputs": [
    {
     "name": "stdout",
     "output_type": "stream",
     "text": [
      "2 arrows will miss the target\n"
     ]
    }
   ],
   "source": [
    "arrows_count = 0\n",
    "\n",
    "for x in range(len(points)):\n",
    "    if distance(points[x][0],points[x][1]) > 9:\n",
    "        arrows_count += 1\n",
    "\n",
    "print(arrows_count, \"arrows will miss the target\")"
   ]
  }
 ],
 "metadata": {
  "kernelspec": {
   "display_name": "Python 3",
   "language": "python",
   "name": "python3"
  },
  "language_info": {
   "codemirror_mode": {
    "name": "ipython",
    "version": 3
   },
   "file_extension": ".py",
   "mimetype": "text/x-python",
   "name": "python",
   "nbconvert_exporter": "python",
   "pygments_lexer": "ipython3",
   "version": "3.9.5"
  }
 },
 "nbformat": 4,
 "nbformat_minor": 2
}

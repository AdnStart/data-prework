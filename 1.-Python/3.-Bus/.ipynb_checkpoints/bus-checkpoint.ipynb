{
 "cells": [
  {
   "cell_type": "markdown",
   "metadata": {},
   "source": [
    "<img src=\"https://bit.ly/2VnXWr2\" width=\"100\" align=\"left\">"
   ]
  },
  {
   "cell_type": "markdown",
   "metadata": {},
   "source": [
    "# Bus\n",
    "\n",
    "This bus has a passenger entry and exit control system to monitor the number of occupants it carries and thus detect when there are too many.\n",
    "\n",
    "At each stop, the entry and exit of passengers is represented by a tuple consisting of two integer numbers.\n",
    "```\n",
    "bus_stop = (in, out)\n",
    "```\n",
    "The succession of stops is represented by a list of these tuples.\n",
    "```\n",
    "stops = [(in1, out1), (in2, out2), (in3, out3), (in4, out4)]\n",
    "```\n",
    "\n",
    "## Tools\n",
    "You don't necessarily need to use all the tools. Maybe you opt to use some of them or completely different ones, they are given to help you shape the exercise. Programming exercises can be solved in many different ways.\n",
    "* Data structures: **lists, tuples**\n",
    "* Loop: **while/for loops**\n",
    "* Functions: **min, max, len**\n",
    "\n",
    "## Tasks"
   ]
  },
  {
   "cell_type": "code",
   "execution_count": 18,
   "metadata": {},
   "outputs": [
    {
     "name": "stdout",
     "output_type": "stream",
     "text": [
      "all elements of tuple: (4, 1)\n",
      "first element of indexed tuple: 4\n",
      "second element of indexed tuple: 1\n"
     ]
    }
   ],
   "source": [
    "# Variables\n",
    "stops = [(10, 0), (4, 1), (3, 5), (3, 4), (5, 1), (1, 5), (5, 8), (4, 6), (2, 3)]\n",
    "\n",
    "print(\"all elements of tuple:\", stops[1])\n",
    "print(\"first element of indexed tuple:\", stops[1][0])\n",
    "print(\"second element of indexed tuple:\", stops[1][1])"
   ]
  },
  {
   "cell_type": "markdown",
   "metadata": {},
   "source": [
    "#### 1. Calculate the number of stops."
   ]
  },
  {
   "cell_type": "code",
   "execution_count": 19,
   "metadata": {},
   "outputs": [
    {
     "name": "stdout",
     "output_type": "stream",
     "text": [
      "Number of stops: 9\n"
     ]
    }
   ],
   "source": [
    "stop_number = len(stops)\n",
    "print(\"Number of stops:\", stop_number)\n",
    "\n"
   ]
  },
  {
   "cell_type": "markdown",
   "metadata": {},
   "source": [
    "#### 2. Assign to a variable a list whose elements are the number of passengers at each stop (in-out).\n",
    "Each item depends on the previous item in the list + in - out."
   ]
  },
  {
   "cell_type": "code",
   "execution_count": 28,
   "metadata": {},
   "outputs": [
    {
     "name": "stdout",
     "output_type": "stream",
     "text": [
      "[10, 3, -2, -1, 4, -4, -3, -2, -1]\n"
     ]
    }
   ],
   "source": [
    "passengers_difference_per_stop = []\n",
    "index = 0\n",
    "\n",
    "for x in range(9):\n",
    "    passengers_difference_per_stop.append(stops[x][0] - stops[x][1])\n",
    "    \n",
    "print(passengers_difference_per_stop)"
   ]
  },
  {
   "cell_type": "markdown",
   "metadata": {},
   "source": [
    "#### 3. Find the maximum occupation of the bus."
   ]
  },
  {
   "cell_type": "code",
   "execution_count": 31,
   "metadata": {},
   "outputs": [
    {
     "name": "stdout",
     "output_type": "stream",
     "text": [
      "[10]\n",
      "[10, 13]\n",
      "[10, 13, 11]\n",
      "[10, 13, 11, 10]\n",
      "[10, 13, 11, 10, 14]\n",
      "[10, 13, 11, 10, 14, 10]\n",
      "[10, 13, 11, 10, 14, 10, 7]\n",
      "[10, 13, 11, 10, 14, 10, 7, 5]\n",
      "[10, 13, 11, 10, 14, 10, 7, 5, 4]\n",
      "Maximum occupation of the bus: 14\n"
     ]
    }
   ],
   "source": [
    "ongoing_occupation = 0\n",
    "bus_occupation_list = []\n",
    "\n",
    "for x in range(len(passengers_difference_per_stop)):\n",
    "    bus_occupation_list.append(ongoing_occupation + passengers_difference_per_stop[x])\n",
    "    ongoing_occupation = bus_occupation_list[x]\n",
    "    print(bus_occupation_list)\n",
    "    \n",
    "print(\"Maximum occupation of the bus:\", max(bus_occupation_list))"
   ]
  },
  {
   "cell_type": "markdown",
   "metadata": {},
   "source": [
    "#### 4. Calculate the average occupation. And the standard deviation."
   ]
  },
  {
   "cell_type": "code",
   "execution_count": 40,
   "metadata": {},
   "outputs": [
    {
     "name": "stdout",
     "output_type": "stream",
     "text": [
      "Average occupation: 9.333333333333334\n",
      "[0.44444444444444364, 13.44444444444444, 2.777777777777776, 0.44444444444444364, 21.77777777777777, 0.44444444444444364, 5.444444444444447, 18.777777777777782, 28.44444444444445]\n",
      "variance: 10.222222222222221\n",
      "standard deviation: 3.197221015541813\n"
     ]
    }
   ],
   "source": [
    "average_occupation = sum(bus_occupation_list)/len(bus_occupation_list)\n",
    "\n",
    "print(\"Average occupation:\", Average_occupation)\n",
    "\n",
    "pre_variance = []\n",
    "variance = float()\n",
    "\n",
    "for occupation in bus_occupation_list:\n",
    "    pre_variance.append((occupation - average_occupation)**2)\n",
    "\n",
    "print(pre_variance)\n",
    "\n",
    "variance = sum(pre_variance)/len(pre_variance)\n",
    "print(\"variance:\", variance)\n",
    "\n",
    "import math\n",
    "\n",
    "print(\"standard deviation:\", math.sqrt(variance))"
   ]
  }
 ],
 "metadata": {
  "kernelspec": {
   "display_name": "Python 3",
   "language": "python",
   "name": "python3"
  },
  "language_info": {
   "codemirror_mode": {
    "name": "ipython",
    "version": 3
   },
   "file_extension": ".py",
   "mimetype": "text/x-python",
   "name": "python",
   "nbconvert_exporter": "python",
   "pygments_lexer": "ipython3",
   "version": "3.9.5"
  }
 },
 "nbformat": 4,
 "nbformat_minor": 2
}
